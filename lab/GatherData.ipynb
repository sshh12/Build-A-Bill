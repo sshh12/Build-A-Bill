{
 "cells": [
  {
   "cell_type": "code",
   "execution_count": 18,
   "metadata": {
    "collapsed": true
   },
   "outputs": [],
   "source": [
    "import requests\n",
    "import os"
   ]
  },
  {
   "cell_type": "code",
   "execution_count": 19,
   "metadata": {
    "collapsed": true
   },
   "outputs": [],
   "source": [
    "\n",
    "def download_bills(congress):\n",
    "    \n",
    "    bill_list = requests.get(\"https://www.govtrack.us/api/v2/bill?congress={}\".format(congress)).json()\n",
    "    \n",
    "    for bill in json[\"objects\"]:\n",
    "        \n",
    "        print(bill[\"title\"])\n",
    "        \n",
    "        try:\n",
    "            \n",
    "            name = bill[\"display_number\"]\n",
    "            url = bill[\"text_info\"][\"html_file\"]\n",
    "            \n",
    "            html_bill = requests.get(\"https://www.govtrack.us/\" + url).text\n",
    "            \n",
    "            with open(os.path.join('data', name + '.bill'), 'w') as bill:\n",
    "                bill.write(html_bill)\n",
    "            \n",
    "        except:\n",
    "            pass\n"
   ]
  },
  {
   "cell_type": "code",
   "execution_count": 20,
   "metadata": {
    "scrolled": true
   },
   "outputs": [
    {
     "name": "stdout",
     "output_type": "stream",
     "text": [
      "H.R. 22 (112th): Pipeline Safety and Community Empowerment Act of 2011\n",
      "H.R. 548 (112th): Restoring Democracy in the Workplace Act\n",
      "H.R. 2521 (112th): Endocrine-Disrupting Chemicals Exposure Elimination Act of 2011\n",
      "H.Res. 251 (112th): Urging the President to expedite the submission of the United States - Colombia Trade Promotion Agreement to Congress.\n",
      "H.R. 560 (112th): Rural Representation and Transparency Improvement Act\n",
      "H.R. 2030 (112th): Green Infrastructure for Clean Water Act of 2011\n",
      "H.R. 3856 (112th): State Waters Partnership Act of 2012\n",
      "H.R. 1568 (112th): Oil Pollution Research and Development Program Reauthorization Act of 2011\n",
      "H.R. 1210 (112th): Maritime Lien Reform Act\n",
      "H.R. 2119 (112th): Ryan Creedon Act of 2011\n",
      "H.R. 314 (112th): Medical Liability Procedural Reform Act of 2011\n",
      "S.Res. 207 (112th): A resolution supporting National Men’s Health Week.\n",
      "S. 1370 (112th): After School for America’s Children Act\n",
      "S. 1440 (112th): PREEMIE Reauthorization Act\n",
      "H.R. 2636 (112th): Neighborhood Preservation Act of 2011\n",
      "H.R. 3974 (112th): Smarter Approach to Nuclear Expenditures Act\n",
      "S. 1792 (112th): Strengthening Investigations of Sex Offenders and Missing Children Act of 2011\n",
      "H.R. 3392 (112th): Regulatory Review Act of 2011\n",
      "S. 372 (112th): Cybersecurity and Internet Safety Standards Act\n",
      "H.R. 2798 (112th): To amend the Public Health Service Act to authorize grants for training and support services for Alzheimer’s patients and their families.\n",
      "H.R. 1257 (112th): Protect America from U.S. Military Expenses in Libya Act of 2011\n",
      "S. 187 (112th): Biofuels Market Expansion Act of 2011\n",
      "S. 579 (112th): Sergeant Coleman S. Bean Reserve Component Suicide Prevention Act\n",
      "H.R. 762 (112th): Public Housing Reinvestment and Tenant Protection Act of 2011\n",
      "H.Con.Res. 23 (112th): Authorizing the use of the rotunda of the Capitol for a ceremony to honor the late Frank W. Buckles, the last United States veteran of the First World War, as a tribute to and in recognition of all United States military members who\n",
      "H.R. 2816 (112th): Promoting Health as Youth Skills In Classrooms And Life Act\n",
      "H.R. 3991 (112th): Keep Employees’ Emails and Phones Secure Act\n",
      "H.J.Res. 66 (112th): Approving the renewal of import restrictions contained in the Burmese Freedom and Democracy Act of 2003.\n",
      "S. 1066 (112th): A bill to amend the Marine Mammal Protection Act of 1972 to allow importation of polar bear trophies taken in sport hunts in Canada before the date on which the polar bear was determined to be a threatened species under the Endangered Spe\n",
      "H.Res. 166 (112th): Expressing support for designation of March 2011 as “National Kidney Cancer and Kidney Health Awareness Month”.\n",
      "H.R. 3233 (112th): Eliminate Auto Test (EAT) Act of 2011\n",
      "S. 2022 (112th): CINCH Demonstration Program Act\n",
      "H.R. 2462 (112th): Cap the GSE Bailout Act of 2011\n",
      "H.R. 512 (112th): Dr. Rita Hocog Inos Fellowship Act\n",
      "S. 1047 (112th): Leadville Mine Drainage Tunnel Act of 2011\n",
      "H.R. 751 (112th): Mental Health in Schools Act of 2011\n",
      "H.R. 1407 (112th): Veterans’ Compensation Cost-of-Living Adjustment Act of 2011\n",
      "H.R. 1254 (112th): Synthetic Drug Control Act of 2011\n",
      "S. 1204 (112th): Department of Defense Energy Security Act of 2011\n",
      "H.R. 1541 (112th): Put Your Money Where Your Mouth Is Act of 2011\n",
      "S. 1700 (112th): Medical Device Regulatory Improvement Act\n",
      "H.R. 2582 (112th): Homeowners’ Defense Act of 2011\n",
      "H.R. 3958 (112th): To suspend temporarily the duty on Acid Blue 284.\n",
      "S.Res. 150 (112th): A resolution calling for the protection of religious minority rights and freedoms in the Arab world.\n",
      "S. 330 (112th): Consumer Recall Protection Act of 2011\n",
      "S. 1168 (112th): On-the-Job Training Act of 2011\n",
      "H.Res. 474 (112th): Recognizing the valuable contributions of community colleges and encouraging local partnerships with such institutions to train and revitalize the United States workforce, inspire entrepreneurship, educate skilled workers, and invest \n",
      "H.R. 3559 (112th): Insurance Data Protection Act\n",
      "H.Res. 199 (112th): Honoring the 29 coal miners who perished in the explosion at the Upper Big Branch Mine in Montcoal, West Virginia, on April 5, 2010, and remembering all those who have lost their lives while mining for the resources on which the United\n",
      "H.R. 434 (112th): To prevent the Secretary of the Treasury from hiring new employees to enforce the individual health insurance mandate.\n",
      "S. 1660 (112th): American Jobs Act of 2011\n",
      "H.R. 2417 (112th): Better Use of Light Bulbs Act\n",
      "H.R. 120 (112th): Disabled Veterans’ Surviving Spouses Home Loans Act\n",
      "S. 1030 (112th): Freedom from Restrictive Excessive Executive Demands and Onerous Mandates Act of 2011\n",
      "H.R. 2339 (112th): Lobbyist Disclosure Enhancement Act\n",
      "H.R. 58 (112th): Firearms Interstate Commerce Reform Act\n",
      "H.R. 506 (112th): District of Columbia Legislative Autonomy Act of 2011\n",
      "S.Res. 272 (112th): A resolution designating November 1, 2011, as “National Jobs Day”.\n",
      "H.Con.Res. 92 (112th): Directing the Clerk of the House of Representatives to correct the enrollment of the bill H.R. 1540.\n",
      "H.R. 2394 (112th): Rebuilding America’s Schools Act\n",
      "S. 1156 (112th): Prepare All Kids Act of 2011\n",
      "S. 1688 (112th): Save Our Postal Worker Jobs Act of 2011\n",
      "H.R. 2921 (112th): Expanding Opportunities for Small Businesses Act of 2011\n",
      "S. 1080 (112th): PRO-VETS Act of 2011\n",
      "H.J.Res. 100 (112th): Proposing an amendment to the Constitution of the United States regarding the use of public funds to pay for campaigns for election to Federal office.\n",
      "H.Res. 184 (112th): Expressing support for designation of a “Welcome Home Vietnam Veterans Day”.\n",
      "H.R. 3626 (112th): LIHEAP Protection Act\n",
      "S. 2062 (112th): Freedom from Over-Criminalization and Unjust Seizures Act of 2012\n",
      "H.Res. 422 (112th): Expressing the sense of the House of Representatives regarding the superiority of capitalism as an economic model.\n",
      "H.R. 3318 (112th): Growing Jobs Through Capital Act of 2011\n",
      "S. 757 (112th): Carbon Dioxide Capture Technology Prize Act of 2011\n",
      "S.Res. 81 (112th): An original resolution authorizing expenditures by committees of the Senate for the periods March 1, 2011, through September 30, 2011, and October 1, 2011, through September 30, 2012, and October 1, 2012, through February 28, 2013.\n",
      "H.R. 2923 (112th): Josh Birchfield Security Contractor Oversight Improvement Act\n",
      "H.R. 2320 (112th): To amend the Internal Revenue Code of 1986 to permanently extend existing elective tax treatment for Alaska Native Settlement Trusts.\n",
      "H.R. 1338 (112th): Focusing Resources, Economic Investment, and Guidance To Help Transportation Act of 2011\n",
      "S.Res. 84 (112th): A resolution expressing support for internal rebuilding, resettlement, and reconciliation within Sri Lanka that are necessary to ensure a lasting peace.\n",
      "H.R. 571 (112th): Ensuring Worker Safety Act\n",
      "H.R. 1842 (112th): Development, Relief, and Education for Alien Minors Act of 2011\n",
      "S. 73 (112th): State Leadership in Health Care Act\n",
      "H.R. 666 (112th): Birth Certificate Enhancement Act of 2011\n",
      "H.R. 1397 (112th): Employment Non-Discrimination Act\n",
      "S.Res. 77 (112th): A resolution expressing the sense of the Senate that domestic oil and gas resources are critical to our Nation’s security and economy and the Secretary of the Interior should take immediate action to streamline the shallow and deepwater\n",
      "S. 1936 (112th): Implementation of Simpson-Bowles Spending Reductions Act of 2011\n",
      "H.R. 1527 (112th): Taxpayer Receipt Act\n",
      "S. 1073 (112th): A bill to require the Attorney General to establish minimization and destruction procedures governing the acquisition, retention, and dissemination by the Federal Bureau of Investigation of certain records.\n",
      "S. 509 (112th): Small Business Lending Enhancement Act of 2011\n",
      "S. 2051 (112th): A bill to amend the Higher Education Act of 1965 to extend the reduced interest rate for Federal Direct Stafford Loans.\n",
      "H.Res. 324 (112th): Welcoming and commending the Government of Japan for extending an official apology to all United States former prisoners of war from the Pacific War and moving forward in planning to invite surviving members to Japan.\n",
      "H.R. 3954 (112th): To suspend temporarily the duty on Disperse Red 311.\n",
      "S.Res. 128 (112th): A resolution expressing the sense of the Senate that public servants should be commended for their dedication and continued service to the Nation during Public Service Recognition Week, May 1 through 7, 2011.\n"
     ]
    },
    {
     "name": "stdout",
     "output_type": "stream",
     "text": [
      "H.R. 892 (112th): Stop Asian Carp Act\n",
      "S.Res. 38 (112th): A resolution congratulating Brooklyn Center, Minnesota, on its 100th anniversary.\n",
      "H.R. 2203 (112th): Alaska Hero’s Card Act of 2011\n",
      "S. 518 (112th): Veterinary Medicine Loan Repayment Program Enhancement Act\n",
      "H.Res. 102 (112th): Commemorating the city of Fort Lauderdale, Florida, on its 100th anniversary.\n",
      "H.Res. 270 (112th): Reaffirming United States principles regarding the security of Israel and peace in the Middle East.\n",
      "S. 890 (112th): Fighting Fraud to Protect Taxpayers Act of 2011\n",
      "S.Res. 328 (112th): A resolution designating the week of November 14 through 20, 2011, as “Global Entrepreneurship Week/USA”.\n",
      "H.R. 2059 (112th): To prohibit funding to the United Nations Population Fund.\n",
      "H.R. 278 (112th): To amend the Internal Revenue Code of 1986 to provide for tax exempt qualified small issue bonds to finance agricultural processing property.\n"
     ]
    }
   ],
   "source": [
    "\n",
    "if __name__ == \"__main__\":\n",
    "\n",
    "    download_bills(112)\n"
   ]
  }
 ],
 "metadata": {
  "kernelspec": {
   "display_name": "Python [conda env:tf-gpu]",
   "language": "python",
   "name": "conda-env-tf-gpu-py"
  },
  "language_info": {
   "codemirror_mode": {
    "name": "ipython",
    "version": 3
   },
   "file_extension": ".py",
   "mimetype": "text/x-python",
   "name": "python",
   "nbconvert_exporter": "python",
   "pygments_lexer": "ipython3",
   "version": "3.5.4"
  }
 },
 "nbformat": 4,
 "nbformat_minor": 2
}
