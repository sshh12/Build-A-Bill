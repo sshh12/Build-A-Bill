{
 "cells": [
  {
   "cell_type": "code",
   "execution_count": 1,
   "metadata": {},
   "outputs": [
    {
     "name": "stderr",
     "output_type": "stream",
     "text": [
      "Using TensorFlow backend.\n"
     ]
    }
   ],
   "source": [
    "import numpy as np\n",
    "import pickle\n",
    "import random\n",
    "import os\n",
    "\n",
    "from keras.models import load_model"
   ]
  },
  {
   "cell_type": "code",
   "execution_count": 2,
   "metadata": {
    "collapsed": true
   },
   "outputs": [],
   "source": [
    "# Options\n",
    "\n",
    "max_length = 120"
   ]
  },
  {
   "cell_type": "code",
   "execution_count": 3,
   "metadata": {
    "collapsed": true
   },
   "outputs": [],
   "source": [
    "\n",
    "def sample(preds, temperature):\n",
    "    \n",
    "    preds = np.asarray(preds).astype('float64')\n",
    "    \n",
    "    preds = np.log(preds) / temperature\n",
    "    exp_preds = np.exp(preds)\n",
    "    preds = exp_preds / np.sum(exp_preds)\n",
    "    \n",
    "    probas = np.random.multinomial(1, preds, 1)\n",
    "    \n",
    "    return np.argmax(probas)\n"
   ]
  },
  {
   "cell_type": "code",
   "execution_count": 4,
   "metadata": {
    "collapsed": true
   },
   "outputs": [],
   "source": [
    "\n",
    "def get_tables():\n",
    "    \n",
    "    with open(os.path.join('..', 'models', 'char-table.pickle'), 'rb') as table_file:\n",
    "        chr_to_int = pickle.load(table_file)\n",
    "        \n",
    "    int_to_chr = { ix: char for char, ix in chr_to_int.items() }\n",
    "    \n",
    "    return chr_to_int, int_to_chr, len(chr_to_int)\n"
   ]
  },
  {
   "cell_type": "code",
   "execution_count": 5,
   "metadata": {
    "collapsed": true
   },
   "outputs": [],
   "source": [
    "\n",
    "def generate_bill(save_fn, model_fn, sample_temp, chr_to_int, int_to_chr, seed=None, max_new_len=20000):\n",
    "    \n",
    "    model = load_model(os.path.join('..', 'models', model_fn))\n",
    "    \n",
    "    if not seed:\n",
    "\n",
    "        bill_fn = random.choice(os.listdir(os.path.join('..', 'data')))\n",
    "\n",
    "        with open(os.path.join('..', 'data', bill_fn), 'r') as bill_file:\n",
    "            rand_bill = bill_file.read()\n",
    "\n",
    "        seed = rand_bill\n",
    "        \n",
    "    new_bill = seed[:max_length]\n",
    "\n",
    "    for i in range(max_new_len):\n",
    "\n",
    "        X = np.zeros((1, max_length, num_chars))\n",
    "\n",
    "        for t, char in enumerate(new_bill[-max_length:]):\n",
    "            X[0, t, chr_to_int[char]] = 1\n",
    "\n",
    "        preds = model.predict(X, verbose=0)[0]\n",
    "        next_index = sample(preds, .6)\n",
    "\n",
    "        if int_to_chr[next_index] != '*END*' or \"body\" == new_bill[-4:]:\n",
    "            new_bill += int_to_chr[next_index]\n",
    "        else:\n",
    "            break\n",
    "\n",
    "    with open(os.path.join('..', 'lab', 'tests', save_fn), 'w') as bill_file:\n",
    "        bill_file.write(new_bill)\n",
    "        "
   ]
  },
  {
   "cell_type": "code",
   "execution_count": 6,
   "metadata": {
    "scrolled": true
   },
   "outputs": [],
   "source": [
    "\n",
    "if __name__ == \"__main__\":\n",
    "    \n",
    "    chr_to_int, int_to_chr, num_chars = get_tables()\n"
   ]
  },
  {
   "cell_type": "code",
   "execution_count": 7,
   "metadata": {},
   "outputs": [
    {
     "name": "stdout",
     "output_type": "stream",
     "text": [
      "seed-0-with-bill-genh5-at0.25.html\n"
     ]
    },
    {
     "name": "stderr",
     "output_type": "stream",
     "text": [
      "H:\\Users\\Shriv\\Anaconda3\\envs\\tf-gpu\\lib\\site-packages\\ipykernel\\__main__.py:6: RuntimeWarning: divide by zero encountered in log\n"
     ]
    },
    {
     "name": "stdout",
     "output_type": "stream",
     "text": [
      "seed-0-with-bill-genh5-at0.5.html\n",
      "seed-0-with-bill-genh5-at1.html\n",
      "seed-0-with-bill-genh5-at2.html\n",
      "seed-0-with-bill-genh5-at4.html\n",
      "seed-0-with-bill-gen2h5-at0.25.html\n",
      "seed-0-with-bill-gen2h5-at0.5.html\n",
      "seed-0-with-bill-gen2h5-at1.html\n",
      "seed-0-with-bill-gen2h5-at2.html\n",
      "seed-0-with-bill-gen2h5-at4.html\n",
      "seed-1-with-bill-genh5-at0.25.html\n",
      "seed-1-with-bill-genh5-at0.5.html\n",
      "seed-1-with-bill-genh5-at1.html\n",
      "seed-1-with-bill-genh5-at2.html\n",
      "seed-1-with-bill-genh5-at4.html\n",
      "seed-1-with-bill-gen2h5-at0.25.html\n",
      "seed-1-with-bill-gen2h5-at0.5.html\n",
      "seed-1-with-bill-gen2h5-at1.html\n",
      "seed-1-with-bill-gen2h5-at2.html\n",
      "seed-1-with-bill-gen2h5-at4.html\n"
     ]
    }
   ],
   "source": [
    "\n",
    "if __name__ == \"__main__\":\n",
    "    \n",
    "    seed1 = (\"<body><p>S 73 IS</p><p/><center><p>112th CONGRESS</p></center>\\n\"\n",
    "             \"<p/><center><p>1st Session</p></center>\\n\"\n",
    "             \"<p/><center><p>S.\")\n",
    "            \n",
    "    seed2 = (\"<body><p>HR 3958 IH</p><p/><center><p>112th CONGRESS</p></center>\\n\"\n",
    "             \"<p/><center><p>2d Session</p></center>\\n\"\n",
    "             \"<p/><center><p>\")\n",
    "    \n",
    "    seeds = [seed1, seed2]\n",
    "    models = ['bill-gen.h5', 'bill-gen2.h5']\n",
    "            \n",
    "    for seed in seeds:\n",
    "        \n",
    "        for model_fn in models:\n",
    "            \n",
    "            for sample_temp in [.25, .5, 1, 2, 4]:\n",
    "                \n",
    "                test_name = \"seed-{}-with-{}-at{}.html\".format(seeds.index(seed), model_fn.replace('.', ''), sample_temp)\n",
    "                \n",
    "                print(test_name)\n",
    "                \n",
    "                generate_bill(test_name, model_fn, sample_temp, chr_to_int, int_to_chr, seed=seed)\n",
    "                "
   ]
  }
 ],
 "metadata": {
  "kernelspec": {
   "display_name": "Python [conda env:tf-gpu]",
   "language": "python",
   "name": "conda-env-tf-gpu-py"
  },
  "language_info": {
   "codemirror_mode": {
    "name": "ipython",
    "version": 3
   },
   "file_extension": ".py",
   "mimetype": "text/x-python",
   "name": "python",
   "nbconvert_exporter": "python",
   "pygments_lexer": "ipython3",
   "version": "3.5.4"
  }
 },
 "nbformat": 4,
 "nbformat_minor": 2
}
