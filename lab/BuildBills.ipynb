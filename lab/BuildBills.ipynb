{
 "cells": [
  {
   "cell_type": "code",
   "execution_count": null,
   "metadata": {},
   "outputs": [
    {
     "name": "stderr",
     "output_type": "stream",
     "text": [
      "Using TensorFlow backend.\n"
     ]
    }
   ],
   "source": [
    "import numpy as np\n",
    "import os\n",
    "\n",
    "from keras.models import load_model"
   ]
  },
  {
   "cell_type": "code",
   "execution_count": null,
   "metadata": {
    "collapsed": true
   },
   "outputs": [],
   "source": [
    "\n",
    "def generate_bill():\n",
    "    \n",
    "    model = load_model(os.path.join('..', 'models', 'bill-gen.h5'))\n",
    "\n",
    "    bill_fn = random.choice(os.listdir(os.path.join('..', 'data')))\n",
    "\n",
    "    with open(os.path.join('..', 'data', bill_fn), 'r') as bill_file:\n",
    "        rand_bill = bill_file.read()\n",
    "\n",
    "    new_bill = rand_bill[:max_length]\n",
    "    print(\"Starting w/:\\n\" + new_bill)\n",
    "\n",
    "    for i in range(15000):\n",
    "\n",
    "        X = np.zeros((1, max_length, num_chars))\n",
    "\n",
    "        for t, char in enumerate(new_bill[-max_length:]):\n",
    "            X[0, t, chr_to_int[char]] = 1\n",
    "\n",
    "        preds = model.predict(X, verbose=0)[0]\n",
    "        next_index = sample(preds, .6)\n",
    "\n",
    "        if int_to_chr[next_index] != '*END*' or \"body\" == new_bill[-4:]:\n",
    "            new_bill += int_to_chr[next_index]\n",
    "        else:\n",
    "            break\n",
    "\n",
    "    with open('test.html', 'w') as bill_file:\n",
    "        bill_file.write(new_bill)\n",
    "        "
   ]
  }
 ],
 "metadata": {
  "kernelspec": {
   "display_name": "Python [conda env:tf-gpu]",
   "language": "python",
   "name": "conda-env-tf-gpu-py"
  },
  "language_info": {
   "codemirror_mode": {
    "name": "ipython",
    "version": 3
   },
   "file_extension": ".py",
   "mimetype": "text/x-python",
   "name": "python",
   "nbconvert_exporter": "python",
   "pygments_lexer": "ipython3",
   "version": "3.5.4"
  }
 },
 "nbformat": 4,
 "nbformat_minor": 2
}
