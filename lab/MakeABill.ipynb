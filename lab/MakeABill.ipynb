{
 "cells": [
  {
   "cell_type": "code",
   "execution_count": 1,
   "metadata": {},
   "outputs": [
    {
     "name": "stderr",
     "output_type": "stream",
     "text": [
      "Using TensorFlow backend.\n"
     ]
    }
   ],
   "source": [
    "# Imports\n",
    "import numpy as np\n",
    "import random\n",
    "import os\n",
    "\n",
    "from keras.layers import Dense, Activation, LSTM, TimeDistributed, Dropout\n",
    "from keras.optimizers import RMSprop\n",
    "from keras.models import Sequential\n",
    "\n",
    "import matplotlib.pyplot as plt"
   ]
  },
  {
   "cell_type": "code",
   "execution_count": 2,
   "metadata": {
    "collapsed": true
   },
   "outputs": [],
   "source": [
    "# Parameters\n",
    "\n",
    "max_length = 120\n",
    "\n",
    "epochs = 60\n",
    "batch_size = 256"
   ]
  },
  {
   "cell_type": "code",
   "execution_count": 3,
   "metadata": {
    "scrolled": true
   },
   "outputs": [],
   "source": [
    "# Load Data\n",
    "\n",
    "def load_data(max_length=max_length, step=1, max_bills=12):\n",
    "\n",
    "    chars = set()\n",
    "\n",
    "    sequences, next_chars = [], []\n",
    "\n",
    "    for bill_fn in os.listdir('data'):\n",
    "\n",
    "        with open(os.path.join('data', bill_fn), 'r') as bill_file:\n",
    "            bill = bill_file.read()\n",
    "\n",
    "        chars |= set(bill)\n",
    "\n",
    "        for i in range(0, len(bill) - max_length, step):\n",
    "            sequences.append(bill[i: i + max_length])\n",
    "            next_chars.append(bill[i + max_length])\n",
    "\n",
    "        sequences.append(bill[-max_length:])\n",
    "        next_chars.append('*END*')\n",
    "        \n",
    "        if max_bills == 0:\n",
    "            break\n",
    "        max_bills -= 1\n",
    "\n",
    "    chars = sorted(list(chars)) + ['*END*']\n",
    "    chr_to_int = dict((c, i) for i, c in enumerate(chars))\n",
    "    int_to_chr = dict((i, c) for i, c in enumerate(chars))\n",
    "    \n",
    "    return (sequences, next_chars), (len(chars), chr_to_int, int_to_chr)\n"
   ]
  },
  {
   "cell_type": "code",
   "execution_count": 4,
   "metadata": {},
   "outputs": [],
   "source": [
    "# Process Data\n",
    "\n",
    "def process_data(sequences, next_chars, num_chars, chr_to_int):\n",
    "\n",
    "    X = np.zeros((len(sequences), max_length, num_chars), dtype=np.bool)\n",
    "    y = np.zeros((len(sequences), num_chars), dtype=np.bool)\n",
    "    \n",
    "    for i, sentence in enumerate(sequences):\n",
    "        \n",
    "        for t, char in enumerate(sentence):\n",
    "            \n",
    "            X[i, t, chr_to_int[char]] = 1\n",
    "            \n",
    "        y[i, chr_to_int[next_chars[i]]] = 1\n",
    "        \n",
    "    return X, y\n"
   ]
  },
  {
   "cell_type": "code",
   "execution_count": 5,
   "metadata": {},
   "outputs": [],
   "source": [
    "# Get Model\n",
    "\n",
    "def get_model(num_chars, max_length=max_length):\n",
    "\n",
    "    model = Sequential()\n",
    "\n",
    "    model.add(LSTM(512, input_shape=(max_length, num_chars), return_sequences=True))\n",
    "    model.add(Dropout(0.2))\n",
    "\n",
    "    model.add(LSTM(512, return_sequences=True))\n",
    "    model.add(Dropout(0.2))\n",
    "\n",
    "    model.add(LSTM(512, return_sequences=False))\n",
    "    model.add(Dropout(0.2))\n",
    "\n",
    "    model.add(Dense(num_chars))\n",
    "\n",
    "    model.add(Activation('softmax'))\n",
    "    \n",
    "    model.compile(loss='categorical_crossentropy', optimizer=RMSprop(lr=0.001))\n",
    "    \n",
    "    return model\n",
    "    "
   ]
  },
  {
   "cell_type": "code",
   "execution_count": 6,
   "metadata": {
    "collapsed": true
   },
   "outputs": [],
   "source": [
    "\n",
    "def sample(preds, temperature=1.0):\n",
    "    \n",
    "    preds = np.asarray(preds).astype('float64')\n",
    "    preds = np.log(preds) / temperature\n",
    "    exp_preds = np.exp(preds)\n",
    "    preds = exp_preds / np.sum(exp_preds)\n",
    "    probas = np.random.multinomial(1, preds, 1)\n",
    "    return np.argmax(probas)\n"
   ]
  },
  {
   "cell_type": "code",
   "execution_count": 7,
   "metadata": {},
   "outputs": [
    {
     "name": "stdout",
     "output_type": "stream",
     "text": [
      "(130243, 120, 80) (130243, 80)\n"
     ]
    }
   ],
   "source": [
    "# (Run) Load Data\n",
    "\n",
    "if __name__ == \"__main__\":\n",
    "    \n",
    "    (sequences, next_chars), (num_chars, chr_to_int, int_to_chr) = load_data()\n",
    "    \n",
    "    X, y = process_data(sequences, next_chars, num_chars, chr_to_int)\n",
    "    \n",
    "    print(X.shape, y.shape)\n"
   ]
  },
  {
   "cell_type": "code",
   "execution_count": 8,
   "metadata": {},
   "outputs": [
    {
     "name": "stdout",
     "output_type": "stream",
     "text": [
      "Train on 117218 samples, validate on 13025 samples\n",
      "Epoch 1/60\n",
      "117218/117218 [==============================] - 373s - loss: 2.7472 - val_loss: 2.0279\n",
      "Epoch 2/60\n",
      "117218/117218 [==============================] - 365s - loss: 1.7717 - val_loss: 1.5132\n",
      "Epoch 3/60\n",
      "117218/117218 [==============================] - 365s - loss: 1.3292 - val_loss: 1.2510\n",
      "Epoch 4/60\n",
      "117218/117218 [==============================] - 369s - loss: 1.0719 - val_loss: 1.1266\n",
      "Epoch 5/60\n",
      "117218/117218 [==============================] - 370s - loss: 0.9051 - val_loss: 1.0695\n",
      "Epoch 6/60\n",
      "117218/117218 [==============================] - 371s - loss: 0.7875 - val_loss: 1.0535\n",
      "Epoch 7/60\n",
      "117218/117218 [==============================] - 371s - loss: 0.6955 - val_loss: 1.0404\n",
      "Epoch 8/60\n",
      "117218/117218 [==============================] - 371s - loss: 0.6185 - val_loss: 1.0488\n",
      "Epoch 9/60\n",
      "117218/117218 [==============================] - 372s - loss: 0.5562 - val_loss: 1.0442\n",
      "Epoch 10/60\n",
      "117218/117218 [==============================] - 371s - loss: 0.4985 - val_loss: 1.0669\n",
      "Epoch 11/60\n",
      "117218/117218 [==============================] - 370s - loss: 0.4530 - val_loss: 1.0825\n",
      "Epoch 12/60\n",
      "117218/117218 [==============================] - 371s - loss: 0.4095 - val_loss: 1.1031\n",
      "Epoch 13/60\n",
      "117218/117218 [==============================] - 371s - loss: 0.3760 - val_loss: 1.1326\n",
      "Epoch 14/60\n",
      "117218/117218 [==============================] - 369s - loss: 0.3454 - val_loss: 1.1532\n",
      "Epoch 15/60\n",
      "117218/117218 [==============================] - 372s - loss: 0.3209 - val_loss: 1.1916\n",
      "Epoch 16/60\n",
      "117218/117218 [==============================] - 371s - loss: 0.2978 - val_loss: 1.2222\n",
      "Epoch 17/60\n",
      "117218/117218 [==============================] - 371s - loss: 0.2763 - val_loss: 1.2561\n",
      "Epoch 18/60\n",
      "117218/117218 [==============================] - 370s - loss: 0.2618 - val_loss: 1.2753\n",
      "Epoch 19/60\n",
      "117218/117218 [==============================] - 370s - loss: 0.2484 - val_loss: 1.3121\n",
      "Epoch 20/60\n",
      "117218/117218 [==============================] - 370s - loss: 0.2355 - val_loss: 1.3073\n",
      "Epoch 21/60\n",
      "117218/117218 [==============================] - 371s - loss: 0.2247 - val_loss: 1.3371\n",
      "Epoch 22/60\n",
      "117218/117218 [==============================] - 371s - loss: 0.2164 - val_loss: 1.3578\n",
      "Epoch 23/60\n",
      "117218/117218 [==============================] - 370s - loss: 0.2064 - val_loss: 1.3800\n",
      "Epoch 24/60\n",
      "117218/117218 [==============================] - 370s - loss: 0.1996 - val_loss: 1.4251\n",
      "Epoch 25/60\n",
      "117218/117218 [==============================] - 371s - loss: 0.1925 - val_loss: 1.4101\n",
      "Epoch 26/60\n",
      "117218/117218 [==============================] - 369s - loss: 0.1863 - val_loss: 1.4320\n",
      "Epoch 27/60\n",
      "117218/117218 [==============================] - 370s - loss: 0.1799 - val_loss: 1.4459\n",
      "Epoch 28/60\n",
      "117218/117218 [==============================] - 369s - loss: 0.1776 - val_loss: 1.4661\n",
      "Epoch 29/60\n",
      "117218/117218 [==============================] - 369s - loss: 0.1762 - val_loss: 1.4790\n",
      "Epoch 30/60\n",
      "117218/117218 [==============================] - 370s - loss: 0.1713 - val_loss: 1.5140\n",
      "Epoch 31/60\n",
      "117218/117218 [==============================] - 370s - loss: 0.1667 - val_loss: 1.5046\n",
      "Epoch 32/60\n",
      "117218/117218 [==============================] - 371s - loss: 0.1651 - val_loss: 1.5008\n",
      "Epoch 33/60\n",
      "117218/117218 [==============================] - 370s - loss: 0.1601 - val_loss: 1.5291\n",
      "Epoch 34/60\n",
      "117218/117218 [==============================] - 372s - loss: 0.1552 - val_loss: 1.5531\n",
      "Epoch 35/60\n",
      "117218/117218 [==============================] - 370s - loss: 0.1550 - val_loss: 1.5613\n",
      "Epoch 36/60\n",
      "117218/117218 [==============================] - 370s - loss: 0.1549 - val_loss: 1.5924\n",
      "Epoch 37/60\n",
      "117218/117218 [==============================] - 371s - loss: 0.1480 - val_loss: 1.5629\n",
      "Epoch 38/60\n",
      "117218/117218 [==============================] - 370s - loss: 0.1485 - val_loss: 1.5770\n",
      "Epoch 39/60\n",
      "117218/117218 [==============================] - 372s - loss: 0.1475 - val_loss: 1.5888\n",
      "Epoch 40/60\n",
      "117218/117218 [==============================] - 371s - loss: 0.1459 - val_loss: 1.5920\n",
      "Epoch 41/60\n",
      "117218/117218 [==============================] - 371s - loss: 0.1440 - val_loss: 1.5931\n",
      "Epoch 42/60\n",
      "117218/117218 [==============================] - 372s - loss: 0.1420 - val_loss: 1.6215\n",
      "Epoch 43/60\n",
      "117218/117218 [==============================] - 373s - loss: 0.1399 - val_loss: 1.6131\n",
      "Epoch 44/60\n",
      "117218/117218 [==============================] - 372s - loss: 0.1401 - val_loss: 1.6404\n",
      "Epoch 45/60\n",
      "117218/117218 [==============================] - 370s - loss: 0.1414 - val_loss: 1.6223\n",
      "Epoch 46/60\n",
      "117218/117218 [==============================] - 371s - loss: 0.1399 - val_loss: 1.6648\n",
      "Epoch 47/60\n",
      "117218/117218 [==============================] - 371s - loss: 0.1396 - val_loss: 1.6568\n",
      "Epoch 48/60\n",
      "117218/117218 [==============================] - 371s - loss: 0.1344 - val_loss: 1.6606\n",
      "Epoch 49/60\n",
      "117218/117218 [==============================] - 370s - loss: 0.1364 - val_loss: 1.6820\n",
      "Epoch 50/60\n",
      "117218/117218 [==============================] - 371s - loss: 0.1365 - val_loss: 1.6726\n",
      "Epoch 51/60\n",
      "117218/117218 [==============================] - 369s - loss: 0.1361 - val_loss: 1.6704\n",
      "Epoch 52/60\n",
      "117218/117218 [==============================] - 372s - loss: 0.1368 - val_loss: 1.6487\n",
      "Epoch 53/60\n",
      "117218/117218 [==============================] - 370s - loss: 0.1334 - val_loss: 1.6807\n",
      "Epoch 54/60\n",
      "117218/117218 [==============================] - 371s - loss: 0.1356 - val_loss: 1.6838\n",
      "Epoch 55/60\n",
      "117218/117218 [==============================] - 372s - loss: 0.1327 - val_loss: 1.7066\n",
      "Epoch 56/60\n",
      "117218/117218 [==============================] - 371s - loss: 0.1317 - val_loss: 1.7004\n",
      "Epoch 57/60\n",
      "117218/117218 [==============================] - 371s - loss: 0.1316 - val_loss: 1.7106\n",
      "Epoch 58/60\n",
      "117218/117218 [==============================] - 372s - loss: 0.1307 - val_loss: 1.7089\n",
      "Epoch 59/60\n",
      "117218/117218 [==============================] - 370s - loss: 0.1315 - val_loss: 1.7177\n",
      "Epoch 60/60\n",
      "117218/117218 [==============================] - 371s - loss: 0.1349 - val_loss: 1.7275\n"
     ]
    },
    {
     "data": {
      "image/png": "[encoded data removed]",
      "text/plain": [
       "<matplotlib.figure.Figure at 0x273b8d09a58>"
      ]
     },
     "metadata": {},
     "output_type": "display_data"
    }
   ],
   "source": [
    "# (Run) Train\n",
    "\n",
    "if __name__ == \"__main__\":\n",
    "    \n",
    "    model = get_model(num_chars)\n",
    "    \n",
    "    history = model.fit(X, y,\n",
    "                        batch_size=batch_size,\n",
    "                        epochs=epochs,\n",
    "                        validation_split=.1,\n",
    "                        verbose=1,\n",
    "                        callbacks=[])\n",
    "    \n",
    "    plt.plot(history.history['loss'])\n",
    "    plt.plot(history.history['val_loss'])\n",
    "    plt.legend(['TrainLoss', 'TestLoss'])\n",
    "    plt.show()\n"
   ]
  },
  {
   "cell_type": "code",
   "execution_count": 11,
   "metadata": {},
   "outputs": [],
   "source": [
    "\n",
    "def generate_bill():\n",
    "\n",
    "    bill_fn = random.choice(os.listdir('data'))\n",
    "\n",
    "    with open(os.path.join('data', bill_fn), 'r') as bill_file:\n",
    "        rand_bill = bill_file.read()\n",
    "\n",
    "    new_bill = rand_bill[:max_length]\n",
    "    print(\"Starting w/:\\n\" + new_bill)\n",
    "\n",
    "    for i in range(15000):\n",
    "\n",
    "        X = np.zeros((1, max_length, num_chars))\n",
    "\n",
    "        for t, char in enumerate(new_bill[-max_length:]):\n",
    "            X[0, t, chr_to_int[char]] = 1.\n",
    "\n",
    "        preds = model.predict(X, verbose=0)[0]\n",
    "        next_index = sample(preds, .9)\n",
    "\n",
    "        if int_to_chr[next_index] != '*END*' or \"body\" == new_bill[-4:]:\n",
    "            new_bill += int_to_chr[next_index]\n",
    "        else:\n",
    "            break\n",
    "\n",
    "    with open('test.html', 'w') as bill_file:\n",
    "        bill_file.write(new_bill)\n",
    "\n"
   ]
  },
  {
   "cell_type": "code",
   "execution_count": 12,
   "metadata": {},
   "outputs": [
    {
     "name": "stdout",
     "output_type": "stream",
     "text": [
      "Starting w/:\n",
      "<body><p>S 1080 IS</p><p/><center><p>112th CONGRESS</p></center>\n",
      "<p/><center><p>1st Session</p></center>\n",
      "<p/><center><p>\n"
     ]
    }
   ],
   "source": [
    "\n",
    "if __name__ == \"__main__\":\n",
    "    \n",
    "    generate_bill()\n"
   ]
  }
 ],
 "metadata": {
  "kernelspec": {
   "display_name": "Python [conda env:tf-gpu]",
   "language": "python",
   "name": "conda-env-tf-gpu-py"
  },
  "language_info": {
   "codemirror_mode": {
    "name": "ipython",
    "version": 3
   },
   "file_extension": ".py",
   "mimetype": "text/x-python",
   "name": "python",
   "nbconvert_exporter": "python",
   "pygments_lexer": "ipython3",
   "version": "3.5.4"
  }
 },
 "nbformat": 4,
 "nbformat_minor": 2
}
