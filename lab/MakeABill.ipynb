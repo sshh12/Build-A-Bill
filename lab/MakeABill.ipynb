{
 "cells": [
  {
   "cell_type": "code",
   "execution_count": 1,
   "metadata": {},
   "outputs": [
    {
     "name": "stderr",
     "output_type": "stream",
     "text": [
      "Using TensorFlow backend.\n"
     ]
    }
   ],
   "source": [
    "# Imports\n",
    "import numpy as np\n",
    "import random\n",
    "import os\n",
    "\n",
    "from keras.callbacks import ReduceLROnPlateau, EarlyStopping, ModelCheckpoint\n",
    "from keras.layers import Dense, Activation, LSTM, TimeDistributed, Dropout\n",
    "from keras.optimizers import RMSprop\n",
    "from keras.models import Sequential\n",
    "\n",
    "import matplotlib.pyplot as plt"
   ]
  },
  {
   "cell_type": "code",
   "execution_count": 2,
   "metadata": {
    "collapsed": true
   },
   "outputs": [],
   "source": [
    "# Parameters\n",
    "\n",
    "max_length = 120\n",
    "\n",
    "epochs = 60\n",
    "batch_size = 256"
   ]
  },
  {
   "cell_type": "code",
   "execution_count": 3,
   "metadata": {
    "collapsed": true
   },
   "outputs": [],
   "source": [
    "\n",
    "def get_bills(nb_bills=12, mix=True):\n",
    "    \n",
    "    all_bills = os.listdir(os.path.join('..', 'data'))\n",
    "    \n",
    "    if mix:\n",
    "    \n",
    "        return random.sample(all_bills, nb_bills)\n",
    "    \n",
    "    else:\n",
    "        \n",
    "        return all_bills[:nb_bills]\n"
   ]
  },
  {
   "cell_type": "code",
   "execution_count": 4,
   "metadata": {
    "collapsed": true,
    "scrolled": true
   },
   "outputs": [],
   "source": [
    "# Load Data\n",
    "\n",
    "def load_data(bills, max_length=max_length, step=1):\n",
    "\n",
    "    chars = set()\n",
    "\n",
    "    sequences, next_chars = [], []\n",
    "\n",
    "    for bill_fn in bills:\n",
    "\n",
    "        with open(os.path.join('..', 'data', bill_fn), 'r') as bill_file:\n",
    "            bill = bill_file.read()\n",
    "\n",
    "        chars |= set(bill)\n",
    "\n",
    "        for i in range(0, len(bill) - max_length, step):\n",
    "            sequences.append(bill[i: i + max_length])\n",
    "            next_chars.append(bill[i + max_length])\n",
    "\n",
    "        sequences.append(bill[-max_length:])\n",
    "        next_chars.append('*END*')\n",
    "\n",
    "    chars = sorted(list(chars)) + ['*END*']\n",
    "    chr_to_int = dict((c, i) for i, c in enumerate(chars))\n",
    "    int_to_chr = dict((i, c) for i, c in enumerate(chars))\n",
    "    \n",
    "    return (sequences, next_chars), (len(chars), chr_to_int, int_to_chr)\n"
   ]
  },
  {
   "cell_type": "code",
   "execution_count": 5,
   "metadata": {
    "collapsed": true
   },
   "outputs": [],
   "source": [
    "# Process Data\n",
    "\n",
    "def process_data(sequences, next_chars, num_chars, chr_to_int):\n",
    "\n",
    "    X = np.zeros((len(sequences), max_length, num_chars), dtype=np.bool)\n",
    "    y = np.zeros((len(sequences), num_chars), dtype=np.bool)\n",
    "    \n",
    "    for i, sequence in enumerate(sequences):\n",
    "        \n",
    "        for j, char in enumerate(sequence):\n",
    "            \n",
    "            X[i, j, chr_to_int[char]] = 1\n",
    "            \n",
    "        y[i, chr_to_int[next_chars[i]]] = 1\n",
    "        \n",
    "    return X, y\n"
   ]
  },
  {
   "cell_type": "code",
   "execution_count": 6,
   "metadata": {
    "collapsed": true
   },
   "outputs": [],
   "source": [
    "# Get Model\n",
    "\n",
    "def get_model(num_chars, max_length=max_length):\n",
    "\n",
    "    model = Sequential()\n",
    "\n",
    "    model.add(LSTM(512, input_shape=(max_length, num_chars), return_sequences=True))\n",
    "    model.add(Dropout(0.5))\n",
    "\n",
    "    model.add(LSTM(512, return_sequences=True))\n",
    "    model.add(Dropout(0.5))\n",
    "\n",
    "    model.add(LSTM(512, return_sequences=False))\n",
    "    model.add(Dropout(0.5))\n",
    "\n",
    "    model.add(Dense(num_chars))\n",
    "\n",
    "    model.add(Activation('softmax'))\n",
    "    \n",
    "    model.compile(loss='categorical_crossentropy', optimizer=RMSprop(lr=0.002))\n",
    "    \n",
    "    return model\n",
    "    "
   ]
  },
  {
   "cell_type": "code",
   "execution_count": 7,
   "metadata": {
    "collapsed": true
   },
   "outputs": [],
   "source": [
    "\n",
    "def sample(preds, temperature=1.0):\n",
    "    \n",
    "    preds = np.asarray(preds).astype('float64')\n",
    "    \n",
    "    preds = np.log(preds) / temperature\n",
    "    exp_preds = np.exp(preds)\n",
    "    preds = exp_preds / np.sum(exp_preds)\n",
    "    \n",
    "    probas = np.random.multinomial(1, preds, 1)\n",
    "    \n",
    "    return np.argmax(probas)\n"
   ]
  },
  {
   "cell_type": "code",
   "execution_count": null,
   "metadata": {},
   "outputs": [
    {
     "name": "stdout",
     "output_type": "stream",
     "text": [
      "(143880, 120, 80) (143880, 80)\n"
     ]
    }
   ],
   "source": [
    "# (Run) Load Data\n",
    "\n",
    "if __name__ == \"__main__\":\n",
    "    \n",
    "    bills = get_bills()\n",
    "    \n",
    "    (sequences, next_chars), (num_chars, chr_to_int, int_to_chr) = load_data(bills)\n",
    "    \n",
    "    X, y = process_data(sequences, next_chars, num_chars, chr_to_int)\n",
    "    \n",
    "    print(X.shape, y.shape)\n"
   ]
  },
  {
   "cell_type": "code",
   "execution_count": null,
   "metadata": {},
   "outputs": [
    {
     "name": "stdout",
     "output_type": "stream",
     "text": [
      "Train on 129492 samples, validate on 14388 samples\n",
      "Epoch 1/60\n",
      "129492/129492 [==============================] - 411s - loss: 3.4122 - val_loss: 3.0684\n",
      "Epoch 2/60\n",
      "  7936/129492 [>.............................] - ETA: 363s - loss: 3.1257"
     ]
    }
   ],
   "source": [
    "# (Run) Train\n",
    "\n",
    "if __name__ == \"__main__\":\n",
    "    \n",
    "    model = get_model(num_chars)\n",
    "    \n",
    "    checkpoint = ModelCheckpoint(os.path.join('..', 'models', 'bill-gen.h5'), \n",
    "                                 monitor='loss',\n",
    "                                 verbose=0,\n",
    "                                 save_best_only=True)\n",
    "    \n",
    "    history = model.fit(X, y,\n",
    "                        batch_size=batch_size,\n",
    "                        epochs=epochs,\n",
    "                        validation_split=.1,\n",
    "                        verbose=1,\n",
    "                        callbacks=[checkpoint])\n",
    "    \n",
    "    plt.plot(history.history['loss'])\n",
    "    plt.plot(history.history['val_loss'])\n",
    "    plt.legend(['TrainLoss', 'TestLoss'])\n",
    "    plt.show()\n"
   ]
  },
  {
   "cell_type": "code",
   "execution_count": null,
   "metadata": {
    "collapsed": true
   },
   "outputs": [],
   "source": [
    "\n",
    "def generate_bill():\n",
    "\n",
    "    bill_fn = random.choice(os.path.join('..', 'data'))\n",
    "\n",
    "    with open(os.path.join('data', bill_fn), 'r') as bill_file:\n",
    "        rand_bill = bill_file.read()\n",
    "\n",
    "    new_bill = rand_bill[:max_length]\n",
    "    print(\"Starting w/:\\n\" + new_bill)\n",
    "\n",
    "    for i in range(15000):\n",
    "\n",
    "        X = np.zeros((1, max_length, num_chars))\n",
    "\n",
    "        for t, char in enumerate(new_bill[-max_length:]):\n",
    "            X[0, t, chr_to_int[char]] = 1.\n",
    "\n",
    "        preds = model.predict(X, verbose=0)[0]\n",
    "        next_index = sample(preds, .9)\n",
    "\n",
    "        if int_to_chr[next_index] != '*END*' or \"body\" == new_bill[-4:]:\n",
    "            new_bill += int_to_chr[next_index]\n",
    "        else:\n",
    "            break\n",
    "\n",
    "    with open('test.html', 'w') as bill_file:\n",
    "        bill_file.write(new_bill)\n",
    "\n"
   ]
  },
  {
   "cell_type": "code",
   "execution_count": null,
   "metadata": {},
   "outputs": [],
   "source": [
    "\n",
    "if __name__ == \"__main__\":\n",
    "    \n",
    "    generate_bill()\n"
   ]
  }
 ],
 "metadata": {
  "kernelspec": {
   "display_name": "Python [conda env:tf-gpu]",
   "language": "python",
   "name": "conda-env-tf-gpu-py"
  },
  "language_info": {
   "codemirror_mode": {
    "name": "ipython",
    "version": 3
   },
   "file_extension": ".py",
   "mimetype": "text/x-python",
   "name": "python",
   "nbconvert_exporter": "python",
   "pygments_lexer": "ipython3",
   "version": "3.5.4"
  }
 },
 "nbformat": 4,
 "nbformat_minor": 2
}
